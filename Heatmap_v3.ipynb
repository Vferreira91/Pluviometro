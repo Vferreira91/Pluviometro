{
  "nbformat": 4,
  "nbformat_minor": 0,
  "metadata": {
    "colab": {
      "provenance": [],
      "authorship_tag": "ABX9TyNqeC72l3eSlhiFRBd2JsWL",
      "include_colab_link": true
    },
    "kernelspec": {
      "name": "python3",
      "display_name": "Python 3"
    },
    "language_info": {
      "name": "python"
    }
  },
  "cells": [
    {
      "cell_type": "markdown",
      "metadata": {
        "id": "view-in-github",
        "colab_type": "text"
      },
      "source": [
        "<a href=\"https://colab.research.google.com/github/Vferreira91/Pluviometro/blob/main/Heatmap_v3.ipynb\" target=\"_parent\"><img src=\"https://colab.research.google.com/assets/colab-badge.svg\" alt=\"Open In Colab\"/></a>"
      ]
    },
    {
      "cell_type": "code",
      "execution_count": null,
      "metadata": {
        "id": "pzUL1G0EEYyG"
      },
      "outputs": [],
      "source": [
        "!pip install gmaps"
      ]
    },
    {
      "cell_type": "code",
      "source": [
        "import gmaps\n",
        "import gmaps.datasets\n",
        "import pandas as pd\n",
        "import time\n",
        "from google.colab import output\n",
        "from google.colab import drive\n",
        "from IPython.display import display, clear_output\n",
        "output.enable_custom_widget_manager()\n",
        "drive.mount('/content/drive')\n",
        "gmaps.configure(api_key='[SUA API GMAPS AQUI]')"
      ],
      "metadata": {
        "id": "xmWXwQWnEaoZ"
      },
      "execution_count": null,
      "outputs": []
    },
    {
      "cell_type": "code",
      "source": [
        "df = pd.read_csv('/local/do/arquivo.csv')\n",
        "coord_alt = pd.read_csv('/local/do/arquivo.csv')"
      ],
      "metadata": {
        "id": "LM5mPw3fEct6"
      },
      "execution_count": 3,
      "outputs": []
    },
    {
      "cell_type": "code",
      "source": [
        "#Utilizar as coordenadas alternativas no lugar das originais (não executar\n",
        "# caso queira utilizar as coordenadas originais)\n",
        "df = df.drop(['latitude','longitude'],axis=1)\n",
        "df = df.merge(coord_alt[['id_estacao', 'latitude', 'longitude']], on='id_estacao', how='left')\n",
        "df = df.drop(['id_estacao'],axis=1)"
      ],
      "metadata": {
        "id": "8WpABfj_E3qU"
      },
      "execution_count": 4,
      "outputs": []
    },
    {
      "cell_type": "code",
      "source": [
        "ordem_colunas = ['tick','latitude','longitude','acumulado']\n",
        "df = df[ordem_colunas]"
      ],
      "metadata": {
        "id": "gNyteZTSGe_G"
      },
      "execution_count": 5,
      "outputs": []
    },
    {
      "cell_type": "code",
      "source": [
        "locations = df[['latitude', 'longitude']]\n",
        "acumulado = df['acumulado']"
      ],
      "metadata": {
        "id": "7e_3-pGJGgV7"
      },
      "execution_count": 6,
      "outputs": []
    },
    {
      "cell_type": "code",
      "source": [
        "fig = gmaps.figure(center=(-22.910, -43.450), zoom_level=11.85,\n",
        "                   layout = {'width': '1800px','height':'1000px', 'margin':'0 auto 0 auto'})\n",
        "\n",
        "# Inicializador da camada de heatmap\n",
        "heatmap_layer = gmaps.heatmap_layer(locations, weights=acumulado, max_intensity=200)\n",
        "# Camada de heatmap à figura do mapa\n",
        "fig.add_layer(heatmap_layer)\n",
        "# Mapa inicial\n",
        "display(fig)\n",
        "\n",
        "# Atualizar a camada do heatmap com base no dia a cada intervalo de tempo setado no time.sleep\n",
        "def update_heatmap():\n",
        "    for tick in sorted(df['tick'].unique()):\n",
        "        filtered_df = df[df['tick'] == tick]\n",
        "        heatmap_layer.locations = filtered_df[['latitude', 'longitude']]\n",
        "        heatmap_layer.weights = filtered_df['acumulado']\n",
        "        heatmap_layer.max_intensity = 200\n",
        "        heatmap_layer.point_radius = 130\n",
        "        heatmap_layer.dissipating = True\n",
        "        heatmap_layer.gradient = [(0,0,255,0.01),(0,255,255),(173,255,47),\n",
        "                                (154,205,50),(255,255,0),(255,165,0),(255,69,0),\n",
        "                                 (255,0,0),(128,0,128)]\n",
        "        #Diminuir frequencia de atualização em valores maiores\n",
        "        if heatmap_layer.weights > [90]:\n",
        "            time.sleep(1.2)  # Itera por 1 'tick' a cada frame (60Hz = 0.016)\n",
        "        else:\n",
        "            time.sleep(0.25)\n",
        "        clear_output(wait=True)  # Limpar tick anterior\n",
        "\n",
        "update_heatmap()\n",
        "display(fig)"
      ],
      "metadata": {
        "id": "jF4U6SEcGmXa"
      },
      "execution_count": null,
      "outputs": []
    }
  ]
}
